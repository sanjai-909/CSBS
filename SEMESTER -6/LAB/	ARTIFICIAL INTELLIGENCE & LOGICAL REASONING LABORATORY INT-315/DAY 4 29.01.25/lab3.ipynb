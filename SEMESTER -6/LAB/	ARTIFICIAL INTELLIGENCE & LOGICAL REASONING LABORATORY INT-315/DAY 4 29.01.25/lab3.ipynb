{
 "cells": [
  {
   "cell_type": "code",
   "execution_count": 22,
   "metadata": {},
   "outputs": [
    {
     "name": "stdout",
     "output_type": "stream",
     "text": [
      "\n",
      "Graph: {'A': ['B', 'C'], 'B': ['A', 'C', 'D'], 'C': ['A', 'B', 'E'], 'D': ['B', 'E'], 'E': ['D', 'C']}\n",
      "A -> B -> C -> D -> E -> "
     ]
    }
   ],
   "source": [
    "from collections import deque\n",
    "\n",
    "def get_graph_from_user():\n",
    "    graph = {}\n",
    "    n = int(input(\"Enter the number of Nodes: \"))\n",
    "\n",
    "    for _ in range(n):\n",
    "        node = input(\"Enter the node name: \")\n",
    "        neighbors = input(f\"Enter the neighbors of {node} (comma-separated): \").split(\",\")\n",
    "        neighbors = [neighbor.strip() for neighbor in neighbors]  \n",
    "        graph[node] = neighbors\n",
    "    return graph\n",
    "\n",
    "def BFS(graph, start):\n",
    "    dq = deque()\n",
    "    visited = {node: False for node in graph}  \n",
    "\n",
    "    visited[start] = True\n",
    "    dq.append(start)\n",
    "\n",
    "    while dq:\n",
    "        current = dq.popleft()  \n",
    "        print(current, end=\" -> \")\n",
    "\n",
    "        for neighbor in graph[current]:  \n",
    "            if not visited[neighbor]:\n",
    "                visited[neighbor] = True\n",
    "                dq.append(neighbor)\n",
    "\n",
    "graph = get_graph_from_user()\n",
    "print(\"\\nGraph:\", graph)\n",
    "\n",
    "start_node = input(\"Enter the starting node: \")  \n",
    "BFS(graph, start_node)\n"
   ]
  },
  {
   "cell_type": "code",
   "execution_count": 26,
   "metadata": {},
   "outputs": [
    {
     "name": "stdout",
     "output_type": "stream",
     "text": [
      "9->10->9->\n",
      "Maximum Path = 28\n"
     ]
    }
   ],
   "source": [
    "directions = [(0,1),(1,1),(-1,1)] # right , right up diagonal , right down diagonal\n",
    "\n",
    "def isValid(matrix,i,j):\n",
    "    return 0 <= i <len(matrix) and 0 <= j < len(matrix[0])\n",
    "\n",
    "def moveNext(index):\n",
    "    result_dict = {}\n",
    "    for di,dj in directions:\n",
    "        ni,nj = di+index[0] , dj+index[1]\n",
    "        if isValid(matrix,ni,nj):\n",
    "            result_dict[matrix[ni][nj]] = [ni,nj]\n",
    "    \n",
    "    max_value = max(result_dict)\n",
    "    return result_dict[max_value]\n",
    "    \n",
    "\n",
    "def find_max_path(matrix):\n",
    "    path_cost = 0\n",
    "    max_value = float('-inf')\n",
    "    index = []\n",
    "    for j in range(1):\n",
    "        for i in range(len(matrix[0])):\n",
    "           if max_value < matrix[i][j]:\n",
    "               max_value = matrix[i][j]\n",
    "               index=[i,j]\n",
    "    \n",
    "    path_cost += max_value\n",
    "    print(matrix[index[0]][index[1]],end=\"->\")\n",
    "    \n",
    "    for i in range(len(matrix[0])-1):\n",
    "        index = moveNext(index)\n",
    "        path_cost += matrix[index[0]][index[1]]\n",
    "        print(matrix[index[0]][index[1]],end=\"->\")\n",
    "        \n",
    "\n",
    "    return path_cost\n",
    "    \n",
    "    \n",
    "    \n",
    "\n",
    "# matrix = [\n",
    "#     [1, 3, 4],\n",
    "#     [7, 20, 6],\n",
    "#     [8, 2, 9]\n",
    "# ]\n",
    "\n",
    "matrix = [\n",
    "    [9,10,9],\n",
    "    [9,9,-1],\n",
    "    [6,-3,4]\n",
    "]\n",
    "\n",
    "# row = int(input(\"Enter the row: \"))\n",
    "# col = int(input(\"Enter the column: \"))\n",
    "# matrix = [[int(input(f\"Enter the element matrix[{i}][{j}]\")) for j in range(col)]for i in range(row)]\n",
    "\n",
    "\n",
    "maxPath = find_max_path(matrix)\n",
    "print()\n",
    "print(f\"Maximum Path = {maxPath}\")\n",
    "\n",
    "\n"
   ]
  }
 ],
 "metadata": {
  "kernelspec": {
   "display_name": "usr",
   "language": "python",
   "name": "python3"
  },
  "language_info": {
   "codemirror_mode": {
    "name": "ipython",
    "version": 3
   },
   "file_extension": ".py",
   "mimetype": "text/x-python",
   "name": "python",
   "nbconvert_exporter": "python",
   "pygments_lexer": "ipython3",
   "version": "3.13.1"
  }
 },
 "nbformat": 4,
 "nbformat_minor": 2
}
